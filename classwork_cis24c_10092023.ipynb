{
 "cells": [
  {
   "cell_type": "code",
   "execution_count": 2,
   "metadata": {},
   "outputs": [
    {
     "name": "stdout",
     "output_type": "stream",
     "text": [
      "Do you want to continue (y/n)?asdfasdf\n",
      "I do not recognize the input. Please try again\n",
      "Do you want to continue (y/n)?y\n",
      "Do you want to continue (y/n)?n\n"
     ]
    }
   ],
   "source": [
    "while True:\n",
    "    c = input(\"Do you want to continue (y/n)?\")\n",
    "    if c == 'n':\n",
    "        break\n",
    "    elif c == 'y':\n",
    "        continue\n",
    "        \n",
    "    print(\"I do not recognize the input. Please try again\")"
   ]
  },
  {
   "cell_type": "code",
   "execution_count": 3,
   "metadata": {},
   "outputs": [
    {
     "name": "stdout",
     "output_type": "stream",
     "text": [
      "1\n",
      "2\n",
      "3\n",
      "4\n",
      "5\n"
     ]
    }
   ],
   "source": [
    "for i in [1,2,3,4,5]:\n",
    "    print(i)"
   ]
  },
  {
   "cell_type": "code",
   "execution_count": 7,
   "metadata": {},
   "outputs": [
    {
     "name": "stdout",
     "output_type": "stream",
     "text": [
      "1\n",
      "6\n",
      "2\n",
      "9\n",
      "8\n",
      "3\n",
      "2\n",
      "5\n",
      "9\n",
      "6\n"
     ]
    }
   ],
   "source": [
    "import random\n",
    "\n",
    "for i in range(10):\n",
    "    print(random.randint(1,10))"
   ]
  },
  {
   "cell_type": "markdown",
   "metadata": {},
   "source": [
    "## Functions"
   ]
  },
  {
   "cell_type": "code",
   "execution_count": 16,
   "metadata": {},
   "outputs": [],
   "source": [
    "def saySomething():\n",
    "    print(\"Hello\")\n",
    "    print(\"How are you?\")\n",
    "    print(\"What are you doing today?\")\n",
    "    print(\"Is it going to rain?\")"
   ]
  },
  {
   "cell_type": "code",
   "execution_count": 15,
   "metadata": {},
   "outputs": [
    {
     "name": "stdout",
     "output_type": "stream",
     "text": [
      "Hello\n",
      "How are you?\n",
      "\n",
      "What are you doing today?\n",
      "Is it going to rain?\n"
     ]
    }
   ],
   "source": [
    "saySomething()"
   ]
  },
  {
   "cell_type": "code",
   "execution_count": 26,
   "metadata": {},
   "outputs": [],
   "source": [
    "def check_user_abort():\n",
    "    \n",
    "    user_abort = False\n",
    "    while True:\n",
    "        c = input(\"Do you want to continue (y/n)?\")\n",
    "        if c == 'n':\n",
    "            user_abort = True\n",
    "            break\n",
    "        elif c == 'y':\n",
    "            break\n",
    "        else:\n",
    "            print(\"Invalid entry.\")\n",
    "            continue\n",
    "            \n",
    "    return user_abort"
   ]
  },
  {
   "cell_type": "code",
   "execution_count": 27,
   "metadata": {},
   "outputs": [
    {
     "name": "stdout",
     "output_type": "stream",
     "text": [
      "Guess what I'm thinking?9\n",
      "Sorry, try again...\n",
      "Do you want to continue (y/n)?asdfla\n",
      "Invalid entry.\n",
      "Do you want to continue (y/n)?y\n",
      "Guess what I'm thinking?8\n",
      "Great guess\n"
     ]
    }
   ],
   "source": [
    "## guess a number game - revisited with functions\n",
    "\n",
    "number = 8\n",
    "\n",
    "while True:\n",
    "    guess = int(input(\"Guess what I'm thinking?\"))\n",
    "    if guess == number:\n",
    "        print('Great guess')\n",
    "        break\n",
    "    else:\n",
    "        print(\"Sorry, try again...\")\n",
    "    \n",
    "    # ask the user to enter y/n. If they enter something other than\n",
    "    # y/n, then we want them to enter y/n again\n",
    "    user_abort = False\n",
    "    while True:\n",
    "        c = input(\"Do you want to continue (y/n)?\")\n",
    "        if c == 'n':\n",
    "            user_abort = True\n",
    "            break\n",
    "        elif c == 'y':\n",
    "            break\n",
    "        else:\n",
    "            print(\"Invalid entry.\")\n",
    "            continue\n",
    "            \n",
    "    if user_abort == True:\n",
    "        print(\"Bye Bye!\")\n",
    "        break\n",
    "        "
   ]
  },
  {
   "cell_type": "markdown",
   "metadata": {},
   "source": [
    "### Function to add numbers"
   ]
  },
  {
   "cell_type": "code",
   "execution_count": 30,
   "metadata": {},
   "outputs": [],
   "source": [
    "def add(number1, number2):\n",
    "    print(\"Number 1:\",number1)\n",
    "    print(\"Number 2:\",number2)\n",
    "    return number1 + number2"
   ]
  },
  {
   "cell_type": "code",
   "execution_count": 31,
   "metadata": {},
   "outputs": [
    {
     "name": "stdout",
     "output_type": "stream",
     "text": [
      "Number 1: 2\n",
      "Number 2: 3\n"
     ]
    },
    {
     "data": {
      "text/plain": [
       "5"
      ]
     },
     "execution_count": 31,
     "metadata": {},
     "output_type": "execute_result"
    }
   ],
   "source": [
    "add(2,3)"
   ]
  },
  {
   "cell_type": "code",
   "execution_count": 32,
   "metadata": {},
   "outputs": [
    {
     "name": "stdout",
     "output_type": "stream",
     "text": [
      "Number 1: 5\n",
      "Number 2: 6\n"
     ]
    },
    {
     "data": {
      "text/plain": [
       "11"
      ]
     },
     "execution_count": 32,
     "metadata": {},
     "output_type": "execute_result"
    }
   ],
   "source": [
    "add(5,6)"
   ]
  },
  {
   "cell_type": "code",
   "execution_count": 33,
   "metadata": {},
   "outputs": [
    {
     "name": "stdout",
     "output_type": "stream",
     "text": [
      "5 -1 63 0.06451612903225806\n"
     ]
    }
   ],
   "source": [
    "def add(n1,n2):\n",
    "    return n1+n2\n",
    "    \n",
    "def subtract(n1,n2):\n",
    "    return n1-n2\n",
    "    \n",
    "def multiply(n1,n2):\n",
    "    return n1*n2\n",
    "    \n",
    "def divide(n1,n2):\n",
    "    return n1/n2\n",
    "    \n",
    "r1 = add(2,3)\n",
    "r2 = subtract(12,13)\n",
    "r3 = multiply(21,3)\n",
    "r4 = divide(2,31)\n",
    "\n",
    "print(r1,r2,r3,r4)"
   ]
  },
  {
   "cell_type": "markdown",
   "metadata": {},
   "source": [
    "### Function or Variable scope"
   ]
  },
  {
   "cell_type": "code",
   "execution_count": 40,
   "metadata": {},
   "outputs": [
    {
     "name": "stdout",
     "output_type": "stream",
     "text": [
      "2 3\n",
      "30 40\n",
      "10 20\n"
     ]
    }
   ],
   "source": [
    "number1 = 10\n",
    "number2 = 20\n",
    "\n",
    "def test():\n",
    "    \n",
    "    number1 = 30\n",
    "    number2 = 40\n",
    "    \n",
    "    def test2():\n",
    "        number1 = 2\n",
    "        number2 = 3\n",
    "        \n",
    "        print(number1,number2)\n",
    "    \n",
    "    test2()\n",
    "    print(number1,number2)\n",
    "\n",
    "test()\n",
    "print(number1,number2)"
   ]
  },
  {
   "cell_type": "code",
   "execution_count": 42,
   "metadata": {},
   "outputs": [
    {
     "name": "stdout",
     "output_type": "stream",
     "text": [
      "10 20\n"
     ]
    }
   ],
   "source": [
    "number1 = 10\n",
    "number2 = 20\n",
    "\n",
    "def test():\n",
    "    global number1,number2\n",
    "    \n",
    "    print(number1,number2)\n",
    "\n",
    "test()\n"
   ]
  },
  {
   "cell_type": "markdown",
   "metadata": {},
   "source": [
    "### Named parameters"
   ]
  },
  {
   "cell_type": "code",
   "execution_count": 47,
   "metadata": {},
   "outputs": [],
   "source": [
    "x = [1,2,3]"
   ]
  },
  {
   "cell_type": "code",
   "execution_count": 50,
   "metadata": {},
   "outputs": [],
   "source": [
    "?x.sort"
   ]
  },
  {
   "cell_type": "code",
   "execution_count": 63,
   "metadata": {},
   "outputs": [],
   "source": [
    "def calculator(number1 = 0, number2 = 0, operation = \"+\"):\n",
    "    \n",
    "    if operation == \"+\":\n",
    "        return number1 + number2\n",
    "    elif operation == \"-\":\n",
    "        return number1 - number2\n",
    "    elif operation == \"*\":\n",
    "        return number1 * number2\n",
    "    elif operation == \"/\":\n",
    "        return number2 / number2\n",
    "    else:\n",
    "        return \"Invalid Operation\""
   ]
  },
  {
   "cell_type": "code",
   "execution_count": 67,
   "metadata": {},
   "outputs": [
    {
     "data": {
      "text/plain": [
       "6"
      ]
     },
     "execution_count": 67,
     "metadata": {},
     "output_type": "execute_result"
    }
   ],
   "source": [
    "calculator( operation = \"*\",number1 = 2, number2 = 3)"
   ]
  },
  {
   "cell_type": "code",
   "execution_count": 68,
   "metadata": {},
   "outputs": [
    {
     "data": {
      "text/plain": [
       "2"
      ]
     },
     "execution_count": 68,
     "metadata": {},
     "output_type": "execute_result"
    }
   ],
   "source": [
    "calculator( 1,2,'*')"
   ]
  },
  {
   "cell_type": "markdown",
   "metadata": {},
   "source": [
    "### Recursion"
   ]
  },
  {
   "cell_type": "code",
   "execution_count": 69,
   "metadata": {},
   "outputs": [],
   "source": [
    "## find the factorial of a number\n",
    "\n",
    "def factorial(n):\n",
    "    \n",
    "    if n == 1:\n",
    "        return 1\n",
    "    \n",
    "    return n * factorial(n-1)"
   ]
  },
  {
   "cell_type": "code",
   "execution_count": 71,
   "metadata": {},
   "outputs": [
    {
     "data": {
      "text/plain": [
       "6"
      ]
     },
     "execution_count": 71,
     "metadata": {},
     "output_type": "execute_result"
    }
   ],
   "source": [
    "factorial(3)"
   ]
  },
  {
   "cell_type": "markdown",
   "metadata": {},
   "source": [
    "### Fibonaccii Series"
   ]
  },
  {
   "cell_type": "code",
   "execution_count": 76,
   "metadata": {},
   "outputs": [
    {
     "data": {
      "text/plain": [
       "21"
      ]
     },
     "execution_count": 76,
     "metadata": {},
     "output_type": "execute_result"
    }
   ],
   "source": [
    "def fib(n):\n",
    "    \n",
    "    if n == 1 or n == 2:\n",
    "        return 1\n",
    "    \n",
    "    return fib(n-1) + fib(n-2)\n",
    "\n",
    "fib(8)"
   ]
  },
  {
   "cell_type": "code",
   "execution_count": 74,
   "metadata": {},
   "outputs": [
    {
     "data": {
      "text/plain": [
       "21"
      ]
     },
     "execution_count": 74,
     "metadata": {},
     "output_type": "execute_result"
    }
   ],
   "source": [
    "fib(8)"
   ]
  },
  {
   "cell_type": "markdown",
   "metadata": {},
   "source": [
    "### Pig dice game"
   ]
  },
  {
   "cell_type": "code",
   "execution_count": 80,
   "metadata": {},
   "outputs": [
    {
     "data": {
      "text/plain": [
       "4"
      ]
     },
     "execution_count": 80,
     "metadata": {},
     "output_type": "execute_result"
    }
   ],
   "source": [
    "# turn 1\n",
    "    # player 1 rolls the dice\n",
    "    # total += roll\n",
    "    # player 1 rolls the dice again\n",
    "    # total += roll\n",
    "    # player 1 rolls the dice again - player rolled if 1\n",
    "    # total = 0\n",
    "    \n",
    "import random\n",
    "\n",
    "random.randint(1,6)\n",
    "\n",
    "# if it reaches 20,then abort"
   ]
  },
  {
   "cell_type": "code",
   "execution_count": null,
   "metadata": {},
   "outputs": [],
   "source": []
  }
 ],
 "metadata": {
  "kernelspec": {
   "display_name": "Python 3",
   "language": "python",
   "name": "python3"
  },
  "language_info": {
   "codemirror_mode": {
    "name": "ipython",
    "version": 3
   },
   "file_extension": ".py",
   "mimetype": "text/x-python",
   "name": "python",
   "nbconvert_exporter": "python",
   "pygments_lexer": "ipython3",
   "version": "3.8.5"
  }
 },
 "nbformat": 4,
 "nbformat_minor": 4
}
