{
 "cells": [
  {
   "cell_type": "markdown",
   "metadata": {},
   "source": [
    "## String indexing"
   ]
  },
  {
   "cell_type": "code",
   "execution_count": null,
   "metadata": {},
   "outputs": [],
   "source": [
    "name = \"Johnny\""
   ]
  },
  {
   "cell_type": "code",
   "execution_count": null,
   "metadata": {},
   "outputs": [],
   "source": [
    "name[0]"
   ]
  },
  {
   "cell_type": "code",
   "execution_count": null,
   "metadata": {},
   "outputs": [],
   "source": [
    "name[0:4]"
   ]
  },
  {
   "cell_type": "code",
   "execution_count": null,
   "metadata": {},
   "outputs": [],
   "source": [
    "range(0,4)"
   ]
  },
  {
   "cell_type": "code",
   "execution_count": null,
   "metadata": {},
   "outputs": [],
   "source": [
    "name[::-1]"
   ]
  },
  {
   "cell_type": "code",
   "execution_count": null,
   "metadata": {},
   "outputs": [],
   "source": [
    "list(range(7))"
   ]
  },
  {
   "cell_type": "code",
   "execution_count": null,
   "metadata": {},
   "outputs": [],
   "source": [
    "### Library functions\n",
    "\n",
    "## download alice in wonderland\n",
    "import requests\n",
    "response = requests.get(\"https://www.gutenberg.org/cache/epub/11/pg11.txt\")\n",
    "alice_text = response.content.decode('utf-8')\n",
    "\n",
    "len(alice_text)"
   ]
  },
  {
   "cell_type": "code",
   "execution_count": null,
   "metadata": {},
   "outputs": [],
   "source": [
    "guesses = [180000,500000,400000,600000,700000,100000,30000,19000,\\\n",
    "           10000000,40000,300000,60000,200000,35000,2000000,80000,\\\n",
    "           65000,150000,300200,35000,400000,170000,800000,850000,\\\n",
    "           115000,18000\n",
    "          ]"
   ]
  },
  {
   "cell_type": "code",
   "execution_count": null,
   "metadata": {},
   "outputs": [],
   "source": [
    "sum(guesses)/len(guesses)"
   ]
  },
  {
   "cell_type": "code",
   "execution_count": null,
   "metadata": {},
   "outputs": [],
   "source": [
    "len(alice_text)"
   ]
  },
  {
   "cell_type": "code",
   "execution_count": null,
   "metadata": {},
   "outputs": [],
   "source": [
    "for letter in alice_text:\n",
    "    print(letter)"
   ]
  },
  {
   "cell_type": "code",
   "execution_count": null,
   "metadata": {},
   "outputs": [],
   "source": [
    "import string"
   ]
  },
  {
   "cell_type": "code",
   "execution_count": null,
   "metadata": {},
   "outputs": [],
   "source": [
    "string.ascii_letters"
   ]
  },
  {
   "cell_type": "code",
   "execution_count": null,
   "metadata": {},
   "outputs": [],
   "source": [
    "alice_text_cleaned = \"\"\n",
    "for letter in alice_text:\n",
    "    if letter in string.ascii_letters or letter == ' ':\n",
    "        alice_text_cleaned += letter\n",
    "    else:\n",
    "        if len(alice_text_cleaned) > 1 and alice_text_cleaned[len(alice_text_cleaned)-1] != ' ':\n",
    "            alice_text_cleaned += \" \""
   ]
  },
  {
   "cell_type": "code",
   "execution_count": null,
   "metadata": {},
   "outputs": [],
   "source": [
    "words = alice_text_cleaned.split()\n",
    "words"
   ]
  },
  {
   "cell_type": "code",
   "execution_count": null,
   "metadata": {},
   "outputs": [],
   "source": [
    "longest_word = \"\"\n",
    "\n",
    "for word in words:\n",
    "    if len(word) > len(longest_word):\n",
    "        longest_word = word\n",
    "\n",
    "print(longest_word)"
   ]
  },
  {
   "cell_type": "code",
   "execution_count": null,
   "metadata": {},
   "outputs": [],
   "source": [
    "shortest_word = words[0]\n",
    "\n",
    "for word in words[1::]:\n",
    "    if len(word) < len(shortest_word):\n",
    "        shortest_word = word\n",
    "\n",
    "print(shortest_word)"
   ]
  },
  {
   "cell_type": "code",
   "execution_count": null,
   "metadata": {},
   "outputs": [],
   "source": [
    "shortest_word = \"\"\n",
    "\n",
    "for word in words:\n",
    "    if len(word) < len(shortest_word):\n",
    "        shortest_word = word\n",
    "\n",
    "print(shortest_word)"
   ]
  },
  {
   "cell_type": "markdown",
   "metadata": {},
   "source": [
    "### Using string functions"
   ]
  },
  {
   "cell_type": "code",
   "execution_count": null,
   "metadata": {},
   "outputs": [],
   "source": [
    "greeting = \"hello\""
   ]
  },
  {
   "cell_type": "code",
   "execution_count": null,
   "metadata": {},
   "outputs": [],
   "source": [
    "greeting.capitalize()"
   ]
  },
  {
   "cell_type": "code",
   "execution_count": null,
   "metadata": {},
   "outputs": [],
   "source": [
    "greeting = \"Hello\""
   ]
  },
  {
   "cell_type": "code",
   "execution_count": null,
   "metadata": {},
   "outputs": [],
   "source": [
    "greeting.lower()"
   ]
  },
  {
   "cell_type": "code",
   "execution_count": null,
   "metadata": {},
   "outputs": [],
   "source": [
    "greeting.upper()"
   ]
  },
  {
   "cell_type": "code",
   "execution_count": null,
   "metadata": {},
   "outputs": [],
   "source": [
    "alice_text_cleaned.lower().count('alice')"
   ]
  },
  {
   "cell_type": "code",
   "execution_count": null,
   "metadata": {},
   "outputs": [],
   "source": [
    "index_found = alice_text_cleaned.find('Alice')"
   ]
  },
  {
   "cell_type": "code",
   "execution_count": null,
   "metadata": {},
   "outputs": [],
   "source": [
    "alice_text_cleaned[index_found+1::].find(\"Alice\")"
   ]
  },
  {
   "cell_type": "code",
   "execution_count": null,
   "metadata": {},
   "outputs": [],
   "source": [
    "'hello'.isalpha()"
   ]
  },
  {
   "cell_type": "code",
   "execution_count": null,
   "metadata": {},
   "outputs": [],
   "source": [
    "\"74hello\".isdigit()"
   ]
  },
  {
   "cell_type": "code",
   "execution_count": null,
   "metadata": {},
   "outputs": [],
   "source": [
    "text = \"Jack      \"\n",
    "text.strip()"
   ]
  },
  {
   "cell_type": "code",
   "execution_count": null,
   "metadata": {},
   "outputs": [],
   "source": [
    "text = \"Jack and Jill\"\n",
    "text.replace(\"and\",\"with\")"
   ]
  },
  {
   "cell_type": "code",
   "execution_count": null,
   "metadata": {},
   "outputs": [],
   "source": [
    "## Format a string\n",
    "\n",
    "c = float(input(\"Enter temperature in Celsius:\"))\n",
    "f = float(input(\"Enter temperature in Fahrenheit:\"))\n",
    "\n",
    "f_to_c = 5/9*(f-32)\n",
    "c_to_f = 9/5*c + 32\n",
    "\n",
    "print(\"\\n\")\n",
    "print(\"%6.2f degrees %-10s is %6.2f degrees %-10s\\n\" % \n",
    "                          (f,\"Fahrenheit\",f_to_c,\"Celsius\"))\n",
    "print(\"%6.2f degrees %-10s is %6.2f degrees %-10s\" % \n",
    "                          (c,\"Celsius\",c_to_f,\"Fahrenheit\"))\n",
    "\n",
    "print(f\"{f} degrees Fahrenheit is {f_to_c} degrees Celsius\")\n",
    "\n",
    "print(\"{0:6.2} degrees Fahrenheit is {1:6.2} degrees Celsius\".format(f,f_to_c))"
   ]
  },
  {
   "cell_type": "code",
   "execution_count": null,
   "metadata": {},
   "outputs": [],
   "source": [
    "# 78 degrees Fahrenheit is 25 degrees Celsius"
   ]
  },
  {
   "cell_type": "code",
   "execution_count": null,
   "metadata": {},
   "outputs": [],
   "source": [
    "print(\"%6.2f degrees Fahrenheit is %6.2f degrees Celsius\" % (f,f_to_c))"
   ]
  },
  {
   "cell_type": "markdown",
   "metadata": {},
   "source": [
    "### Web Scraping"
   ]
  },
  {
   "cell_type": "code",
   "execution_count": null,
   "metadata": {},
   "outputs": [],
   "source": [
    "## pull down contents from google news\n",
    "\n",
    "import requests\n",
    "from bs4 import BeautifulSoup\n",
    "\n",
    "response = requests.get(\"https://news.google.com/home?hl=en-US&gl=US&ceid=US:en\")\n",
    "soup = BeautifulSoup(response.content,'html.parser')\n"
   ]
  },
  {
   "cell_type": "code",
   "execution_count": 112,
   "metadata": {},
   "outputs": [],
   "source": [
    "\n",
    "all_hrefs = []\n",
    "for token in soup.find_all('a'):\n",
    "    href = token.get('href')\n",
    "    if href:\n",
    "        all_hrefs.append(href)\n",
    "        "
   ]
  },
  {
   "cell_type": "code",
   "execution_count": 117,
   "metadata": {},
   "outputs": [],
   "source": [
    "all_hrefs_cleaned = []\n",
    "for href in all_hrefs:\n",
    "    href_cleaned = \"\"\n",
    "    if href[:4] != 'http':\n",
    "        href_cleaned = \"https://news.google.com/\" + href\n",
    "    else:\n",
    "        href_cleaned = href\n",
    "    all_hrefs_cleaned.append(href_cleaned)\n",
    "        \n",
    "        "
   ]
  },
  {
   "cell_type": "code",
   "execution_count": 118,
   "metadata": {},
   "outputs": [
    {
     "data": {
      "text/plain": [
       "['https://news.google.com/./?hl=en-US&gl=US&ceid=US%3Aen',\n",
       " 'https://www.google.com/intl/en/about/products?tab=nh',\n",
       " 'https://accounts.google.com/ServiceLogin?passive=1209600&continue=https://news.google.com/home?hl%3Den-US%26gl%3DUS%26ceid%3DUS:en&followup=https://news.google.com/home?hl%3Den-US%26gl%3DUS%26ceid%3DUS:en&hl=en-US&ec=GAZAqgM',\n",
       " 'https://news.google.com/./home?hl=en-US&gl=US&ceid=US%3Aen',\n",
       " 'https://news.google.com/./showcase?hl=en-US&gl=US&ceid=US%3Aen',\n",
       " 'https://news.google.com/./topics/CAAqIggKIhxDQkFTRHdvSkwyMHZNRGxqTjNjd0VnSmxiaWdBUAE?hl=en-US&gl=US&ceid=US%3Aen',\n",
       " 'https://news.google.com/./topics/CAAqJggKIiBDQkFTRWdvSUwyMHZNRGx1YlY4U0FtVnVHZ0pWVXlnQVAB?hl=en-US&gl=US&ceid=US%3Aen',\n",
       " 'https://news.google.com/./topics/CAAqHAgKIhZDQklTQ2pvSWJHOWpZV3hmZGpJb0FBUAE?hl=en-US&gl=US&ceid=US%3Aen',\n",
       " 'https://news.google.com/./topics/CAAqJggKIiBDQkFTRWdvSUwyMHZNRGx6TVdZU0FtVnVHZ0pWVXlnQVAB?hl=en-US&gl=US&ceid=US%3Aen',\n",
       " 'https://news.google.com/./topics/CAAqJggKIiBDQkFTRWdvSUwyMHZNRGRqTVhZU0FtVnVHZ0pWVXlnQVAB?hl=en-US&gl=US&ceid=US%3Aen',\n",
       " 'https://news.google.com/./topics/CAAqJggKIiBDQkFTRWdvSUwyMHZNREpxYW5RU0FtVnVHZ0pWVXlnQVAB?hl=en-US&gl=US&ceid=US%3Aen',\n",
       " 'https://news.google.com/./topics/CAAqJggKIiBDQkFTRWdvSUwyMHZNRFp1ZEdvU0FtVnVHZ0pWVXlnQVAB?hl=en-US&gl=US&ceid=US%3Aen',\n",
       " 'https://news.google.com/./topics/CAAqJggKIiBDQkFTRWdvSUwyMHZNRFp0Y1RjU0FtVnVHZ0pWVXlnQVAB?hl=en-US&gl=US&ceid=US%3Aen',\n",
       " 'https://news.google.com/./topics/CAAqIQgKIhtDQkFTRGdvSUwyMHZNR3QwTlRFU0FtVnVLQUFQAQ?hl=en-US&gl=US&ceid=US%3Aen',\n",
       " 'https://news.google.com/./?hl=en-US&gl=US&ceid=US%3Aen',\n",
       " 'https://www.weather.com/wx/today/?lat=37.32&lon=-121.94&locale=en_US&par=google',\n",
       " 'https://news.google.com/./topics/CAAqJggKIiBDQkFTRWdvSUwyMHZNRFZxYUdjU0FtVnVHZ0pWVXlnQVAB?hl=en-US&gl=US&ceid=US%3Aen',\n",
       " 'https://news.google.com/./articles/CBMiXGh0dHBzOi8vd3d3Lm5iY25ld3MuY29tL25ld3MvdXMtbmV3cy9mLTM1LWZpZ2h0ZXItamV0LW1pc3NpbmctcGlsb3QtZWplY3RzLW1pc2hhcC1yY25hMTA1NTM00gEraHR0cHM6Ly93d3cubmJjbmV3cy5jb20vbmV3cy9hbXAvcmNuYTEwNTUzNA?hl=en-US&gl=US&ceid=US%3Aen',\n",
       " 'https://news.google.com/./articles/CCAiC1lWM0RLckl1NEZJmAEB?hl=en-US&gl=US&ceid=US%3Aen',\n",
       " 'https://news.google.com/./articles/CBMiXmh0dHBzOi8vd3d3LmZveG5ld3MuY29tL3VzL2YtMzUtamV0LXJlcG9ydGVkLW1pc3NpbmctYXV0aG9yaXRpZXMtcGlsb3QtZWplY3RzLW1pc2hhcC1vZmZpY2lhbHPSAWJodHRwczovL3d3dy5mb3huZXdzLmNvbS91cy9mLTM1LWpldC1yZXBvcnRlZC1taXNzaW5nLWF1dGhvcml0aWVzLXBpbG90LWVqZWN0cy1taXNoYXAtb2ZmaWNpYWxzLmFtcA?hl=en-US&gl=US&ceid=US%3Aen',\n",
       " 'https://news.google.com/./articles/CBMiY2h0dHBzOi8vd3d3Lm1zbmJjLmNvbS9vcGluaW9uL21zbmJjLW9waW5pb24vbWlzc2luZy1mLTM1LWZpZ2h0ZXItamV0LXNvdXRoLWNhcm9saW5hLWNvc3QtcmNuYTEwNTYwM9IBKmh0dHBzOi8vd3d3Lm1zbmJjLmNvbS9tc25iYy9hbXAvcmNuYTEwNTYwMw?hl=en-US&gl=US&ceid=US%3Aen',\n",
       " 'https://news.google.com/./stories/CAAqNggKIjBDQklTSGpvSmMzUnZjbmt0TXpZd1NoRUtEd2pfckwtTUNSR29kT0NJVklWdFlpZ0FQAQ?hl=en-US&gl=US&ceid=US%3Aen',\n",
       " 'https://news.google.com/./articles/CBMiYmh0dHBzOi8vYXBuZXdzLmNvbS9hcnRpY2xlL2lyYW4tdXMtcHJpc29uZXItc3dhcC1zYW5jdGlvbnMtYXNzZXRzLTRlMWZhNDc3ZjhlNmFmNDVmYjc2NGFjZDI1OWMyZjFh0gEA?hl=en-US&gl=US&ceid=US%3Aen',\n",
       " 'https://news.google.com/./articles/CCAiC28wOHNPaXpfamtBmAEB?hl=en-US&gl=US&ceid=US%3Aen',\n",
       " 'https://news.google.com/./articles/CBMiTmh0dHBzOi8vbmV3cy55YWhvby5jb20vaXJhbi1hbWVyaWNhbi1wcmlzb25lci1zd2FwLWxpdmUtdXBkYXRlcy0xMzIwMTU5NDkuaHRtbNIBVmh0dHBzOi8vbmV3cy55YWhvby5jb20vYW1waHRtbC9pcmFuLWFtZXJpY2FuLXByaXNvbmVyLXN3YXAtbGl2ZS11cGRhdGVzLTEzMjAxNTk0OS5odG1s?hl=en-US&gl=US&ceid=US%3Aen',\n",
       " 'https://news.google.com/./articles/CCAiC19HakI5WHY5UzJJmAEB?hl=en-US&gl=US&ceid=US%3Aen',\n",
       " 'https://news.google.com/./stories/CAAqNggKIjBDQklTSGpvSmMzUnZjbmt0TXpZd1NoRUtEd2piaGZyeENCSGtQNlpoOERWeGl5Z0FQAQ?hl=en-US&gl=US&ceid=US%3Aen',\n",
       " 'https://news.google.com/./articles/CBMiP2h0dHBzOi8vd3d3LmZ0LmNvbS9jb250ZW50L2VjYTFhOTE0LTMzYTAtNDk4ZS05NTVmLTA5ZjFiMmZlODg3Y9IBAA?hl=en-US&gl=US&ceid=US%3Aen',\n",
       " 'https://news.google.com/./stories/CAAqNggKIjBDQklTSGpvSmMzUnZjbmt0TXpZd1NoRUtEd2lhdHJHTkNSRmlPS0pwMEJWN21DZ0FQAQ?hl=en-US&gl=US&ceid=US%3Aen',\n",
       " 'https://news.google.com/./articles/CBMigAFodHRwczovL3d3dy5sYXRpbWVzLmNvbS9jYWxpZm9ybmlhL3N0b3J5LzIwMjMtMDktMTgvbGEtZGVwdXR5LWF0dGFjay1raWxsaW5nLXN1c3BlY3RlLWhlYXJkLXZvaWNlcy1hdHRlbXB0ZWQtc3VpY2lkZS1tb3RoZXItc2F5c9IBAA?hl=en-US&gl=US&ceid=US%3Aen',\n",
       " 'https://news.google.com/./stories/CAAqNggKIjBDQklTSGpvSmMzUnZjbmt0TXpZd1NoRUtEd2lma3VPSUNSSFF5QkxhclpNa0JTZ0FQAQ?hl=en-US&gl=US&ceid=US%3Aen',\n",
       " 'https://news.google.com/./topics/CAAqHAgKIhZDQklTQ2pvSWJHOWpZV3hmZGpJb0FBUAE?hl=en-US&gl=US&ceid=US%3Aen']"
      ]
     },
     "execution_count": 118,
     "metadata": {},
     "output_type": "execute_result"
    }
   ],
   "source": [
    "all_hrefs_cleaned"
   ]
  },
  {
   "cell_type": "code",
   "execution_count": null,
   "metadata": {},
   "outputs": [],
   "source": []
  }
 ],
 "metadata": {
  "kernelspec": {
   "display_name": "Python 3",
   "language": "python",
   "name": "python3"
  },
  "language_info": {
   "codemirror_mode": {
    "name": "ipython",
    "version": 3
   },
   "file_extension": ".py",
   "mimetype": "text/x-python",
   "name": "python",
   "nbconvert_exporter": "python",
   "pygments_lexer": "ipython3",
   "version": "3.8.5"
  }
 },
 "nbformat": 4,
 "nbformat_minor": 4
}
